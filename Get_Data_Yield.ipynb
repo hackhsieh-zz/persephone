{
 "cells": [
  {
   "cell_type": "markdown",
   "metadata": {},
   "source": [
    "# 0: Libraries:"
   ]
  },
  {
   "cell_type": "code",
   "execution_count": 11,
   "metadata": {
    "collapsed": true
   },
   "outputs": [],
   "source": [
    "import requests \n",
    "import json\n",
    "import csv \n",
    "import urllib2 \n",
    "import pandas as pd "
   ]
  },
  {
   "cell_type": "markdown",
   "metadata": {},
   "source": [
    "# 1: Declare Variables: "
   ]
  },
  {
   "cell_type": "code",
   "execution_count": 39,
   "metadata": {
    "collapsed": false
   },
   "outputs": [],
   "source": [
    "start_year = 1970\n",
    "end_year = 2014\n",
    "yield_bad_years = [1982, 1984, 1985]"
   ]
  },
  {
   "cell_type": "markdown",
   "metadata": {},
   "source": [
    "# 2: Functions:"
   ]
  },
  {
   "cell_type": "code",
   "execution_count": 40,
   "metadata": {
    "collapsed": true
   },
   "outputs": [],
   "source": [
    "#function 1: grab file with url and write to json file: \n",
    "def GetDataFromUrl(url, filename, data_category):\n",
    "    r = requests.get(url)\n",
    "    print r\n",
    "    with open('Data/{}/{}.json'.format(data_category, filename), 'w') as f:\n",
    "        json.dump(r.json(), f)"
   ]
  },
  {
   "cell_type": "code",
   "execution_count": 41,
   "metadata": {
    "collapsed": false
   },
   "outputs": [],
   "source": [
    "#function 2: read json file into pd data frame:\n",
    "def json_to_df(filename, data_category):\n",
    "    with open('Data/{}/{}'.format(data_category, filename)) as f:\n",
    "        data = json.load(f)\n",
    "    return pd.DataFrame.from_dict(data['data'])"
   ]
  },
  {
   "cell_type": "code",
   "execution_count": 42,
   "metadata": {
    "collapsed": true
   },
   "outputs": [],
   "source": [
    "#function 3: generate yield data in csv form year by year: \n",
    "def generate_yield_data(year):\n",
    "    yearly_url = \"http://nass-api.azurewebsites.net/api/api_get?source_desc=SURVEY&agg_level_desc=COUNTY&sector_desc=CROPS&group_desc=FIELD%20CROPS&year={}&freq_desc=ANNUAL\".format(year)\n",
    "    try:\n",
    "        print \"this is year: {}\".format(year)\n",
    "        GetDataFromUrl(yearly_url,\"yield_{}\".format(year))\n",
    "    except: \n",
    "        print \"{} doesn't work!!!!!\".format(year)\n",
    "        yield_bad_years.append(year)\n",
    "        return \n",
    "    yield_df = json_to_df(\"yield_{}.json\".format(year))\n",
    "    yield_df.to_csv(\"Data/Yield/yield_{}.csv\".format(year))"
   ]
  },
  {
   "cell_type": "markdown",
   "metadata": {},
   "source": [
    "# 3: Yield Data:"
   ]
  },
  {
   "cell_type": "code",
   "execution_count": 44,
   "metadata": {
    "collapsed": false
   },
   "outputs": [],
   "source": [
    "#generate yield data in csv form year by year from 1970 to 2014 (some of the year's metadata returns back 500 error)\n",
    "#for year in xrange(start_year, end_year+1):\n",
    "    #generate_yield_data(year)"
   ]
  },
  {
   "cell_type": "markdown",
   "metadata": {},
   "source": [
    "# 4: Archive Code:"
   ]
  },
  {
   "cell_type": "code",
   "execution_count": 7,
   "metadata": {
    "collapsed": false
   },
   "outputs": [
    {
     "data": {
      "text/plain": [
       "'\\nstate_list = [\"ALABAMA\",\"ALASKA\",\"ARIZONA\",\"ARKANSAS\",\"CALIFORNIA\",\"COLORADO\",\"CONNECTICUT\",\"DELAWARE\",\"FLORIDA\",              \"GEORGIA\",\"HAWAII\",\"IDAHO\",\"ILLINOIS\",\"INDIANA\",\"IOWA\",\"KANSAS\",\"KENTUCKY\",\"LOUISIANA\",\"MAINE\",              \"MARYLAND\",\"MASSACHUSETTS\",\"MICHIGAN\",\"MINNESOTA\",\"MISSISSIPPI\",\"MISSOURI\",\"MONTANA\",\"NEBRASKA\",              \"NEVADA\",\"NEW HAMPSHIRE\",\"NEW JERSEY\",\"NEW MEXICO\",\"NEW YORK\",\"NORTH CAROLINA\",\"NORTH DAKOTA\",              \"OHIO\",\"OKLAHOMA\",\"OREGON\",\"PENNSYLVANIA\",\"RHODE ISLAND\",\"SOUTH CAROLINA\",\"SOUTH DAKOTA\",\"TENNESSEE\",              \"TEXAS\",\"UTAH\",\"VERMONT\",\"VIRGINIA\",\"WASHINGTON\",\"WEST VIRGINIA\",\"WISCONSIN\",\"WYOMING\"]\\n'"
      ]
     },
     "execution_count": 7,
     "metadata": {},
     "output_type": "execute_result"
    }
   ],
   "source": [
    "#1: States List:\n",
    "\"\"\"\n",
    "state_list = [\"ALABAMA\",\"ALASKA\",\"ARIZONA\",\"ARKANSAS\",\"CALIFORNIA\",\"COLORADO\",\"CONNECTICUT\",\"DELAWARE\",\"FLORIDA\",\\\n",
    "              \"GEORGIA\",\"HAWAII\",\"IDAHO\",\"ILLINOIS\",\"INDIANA\",\"IOWA\",\"KANSAS\",\"KENTUCKY\",\"LOUISIANA\",\"MAINE\",\\\n",
    "              \"MARYLAND\",\"MASSACHUSETTS\",\"MICHIGAN\",\"MINNESOTA\",\"MISSISSIPPI\",\"MISSOURI\",\"MONTANA\",\"NEBRASKA\",\\\n",
    "              \"NEVADA\",\"NEW HAMPSHIRE\",\"NEW JERSEY\",\"NEW MEXICO\",\"NEW YORK\",\"NORTH CAROLINA\",\"NORTH DAKOTA\",\\\n",
    "              \"OHIO\",\"OKLAHOMA\",\"OREGON\",\"PENNSYLVANIA\",\"RHODE ISLAND\",\"SOUTH CAROLINA\",\"SOUTH DAKOTA\",\"TENNESSEE\",\\\n",
    "              \"TEXAS\",\"UTAH\",\"VERMONT\",\"VIRGINIA\",\"WASHINGTON\",\"WEST VIRGINIA\",\"WISCONSIN\",\"WYOMING\"]\n",
    "\"\"\"\n",
    "\n",
    "#2: Testing code: \n",
    "\n",
    "#i: \n",
    "#url_2014_CA = \"http://nass-api.azurewebsites.net/api/api_get?source_desc=SURVEY&sector_desc=CROPS&group_desc=FIELD%20CROPS&agg_level_desc=COUNTY&state_name=CALIFORNIA&year=2014&freq_desc=ANNUAL\"\n",
    "#ii:\n",
    "#yield_df_test = json_to_df(\"yield2014_CA.json\")\n",
    "#iii:\n",
    "#yield_df_test.to_csv(\"Data/yield2014_CA.csv\")"
   ]
  },
  {
   "cell_type": "markdown",
   "metadata": {},
   "source": [
    "# 5: Test:"
   ]
  },
  {
   "cell_type": "code",
   "execution_count": null,
   "metadata": {
    "collapsed": true
   },
   "outputs": [],
   "source": []
  }
 ],
 "metadata": {
  "kernelspec": {
   "display_name": "Python 2",
   "language": "python",
   "name": "python2"
  },
  "language_info": {
   "codemirror_mode": {
    "name": "ipython",
    "version": 2
   },
   "file_extension": ".py",
   "mimetype": "text/x-python",
   "name": "python",
   "nbconvert_exporter": "python",
   "pygments_lexer": "ipython2",
   "version": "2.7.11"
  }
 },
 "nbformat": 4,
 "nbformat_minor": 0
}
