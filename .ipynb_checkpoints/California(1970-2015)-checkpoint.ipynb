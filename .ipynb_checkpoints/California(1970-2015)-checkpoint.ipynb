{
 "cells": [
  {
   "cell_type": "markdown",
   "metadata": {},
   "source": [
    "# Part 0: Libraries:"
   ]
  },
  {
   "cell_type": "code",
   "execution_count": 1,
   "metadata": {
    "collapsed": false
   },
   "outputs": [
    {
     "name": "stderr",
     "output_type": "stream",
     "text": [
      "//anaconda/lib/python2.7/site-packages/matplotlib/font_manager.py:273: UserWarning: Matplotlib is building the font cache using fc-list. This may take a moment.\n",
      "  warnings.warn('Matplotlib is building the font cache using fc-list. This may take a moment.')\n"
     ]
    }
   ],
   "source": [
    "from collections import OrderedDict\n",
    "from matplotlib import pyplot as plt\n",
    "import pandas as pd\n",
    "import numpy as np\n",
    "%matplotlib inline"
   ]
  },
  {
   "cell_type": "markdown",
   "metadata": {},
   "source": [
    "# Part I: Functions:"
   ]
  },
  {
   "cell_type": "code",
   "execution_count": 2,
   "metadata": {
    "collapsed": false
   },
   "outputs": [],
   "source": [
    "#Function 1: \n",
    "def parse_data_item(s):\n",
    "    \"\"\"\n",
    "    INPUT: s (string; description of data value)\n",
    "    OUTPUT: attributes (set of strings; sub-domain/yield-type/season-harvested etc.) \\\n",
    "        unit (string; ex. BU/net harvested acre) \n",
    "    OVERVIEW: Parse String in column \"Data Item\": \n",
    "    \"\"\"\n",
    "    left, unit = s.split(\" - YIELD, MEASURED IN \")\n",
    "    attributes = set(left.split(\", \")[1:])\n",
    "    master_attributes.update(attributes)\n",
    "    return attributes, unit\n",
    "\n",
    "#Function 2: \n",
    "def add_columns(df, s):\n",
    "    \"\"\"\n",
    "    INPUT: df (data frame), s (set of strings of column names )\n",
    "    OUTPUT: N/A\n",
    "    OVERVIEW: Add new columns to dataframe: \n",
    "    \"\"\"\n",
    "    for name in s:\n",
    "        df[name] = df[\"Crop Attributes\"].apply(lambda x: 1 if (name in x) else 0) \n",
    "        \n",
    "#Function 3: \n",
    "def count_irrigation(df, time_period):\n",
    "    \"\"\"\n",
    "    INPUT: df (data frame), time_period (string; the time period this calculation is based on)\n",
    "    OUTPUT: N/A\n",
    "    OVERVIEW: count/print of irrigated vs. non-irrigated crops: \n",
    "    \"\"\"\n",
    "    irrigated = len(df[df[\"IRRIGATED\"]==1])\n",
    "    non_irrigated = len(df[df[\"NON-IRRIGATED\"]==0])\n",
    "    print \"__Time period:{}__\".format(time_period)\n",
    "    print \"Total irrigated crops: {}\".format(irrigated)\n",
    "    print \"Total non-irrigated crops: {}\".format(non_irrigated)\n",
    "    print \"Ratio of irrigated/non-irrigated: {}\".format(irrigated/float(non_irrigated))\n",
    "    \n",
    "#Function 4: \n",
    "def count_sub_type(df, time_period): \n",
    "    \"\"\"\n",
    "    INPUT: df (data frame), time_period (string; the time period this calculation is based on) \n",
    "    OUTPUT: count (# of total sub_types of all commodities in this data frame)\n",
    "    OVERVIEW: count/print total sub_type of master commodity during a period: \n",
    "    \"\"\"\n",
    "    df = df[df[\"Year\"]==time_period]\n",
    "    all_commodities = df[\"Commodity\"].unique()\n",
    "    total_commodities, total_sub_domains = len(all_commodities), 0\n",
    "    print \"__Time period:{}__\".format(time_period)\n",
    "    for commodity in all_commodities:\n",
    "        sub_domains_count = len(df[df[\"Commodity\"]==commodity])\n",
    "        total_sub_domains += sub_domains_count\n",
    "        print \"{} has {} sub_types\".format(commodity, sub_domains_count)\n",
    "    print \"Total general commodities: {}\".format(total_commodities)\n",
    "    print \"Total commodities: {}\".format(total_sub_domains)\n",
    "    \n",
    "#Function 5: \n",
    "def graph_yield(df, year, comparing_variable):\n",
    "    \"\"\"\n",
    "    INPUT: df (data frame), commodity (string; type of commodity one wishes to graph);\\\n",
    "        comparing_variable (string; type of variable one wishes to compare)\n",
    "    OUTPUT: N/A\n",
    "    OVERVIEW: graphing the sum of one general type of cmmodity against a comparing_variable\n",
    "    \"\"\"\n",
    "    #i.grabbing values: \n",
    "    df = df[df[\"Year\"]==year]\n",
    "    year_commodities = df[\"Commodity\"].unique()\n",
    "    for commodity in year_commodities:\n",
    "        df_commodity = df[df[\"Commodity\"]==commodity]\n",
    "        filtered_df = df_commodity.groupby(by=[comparing_variable])[\"Value\"].sum()\n",
    "        comparing_variable_list, yield_per_acre = list(filtered_df.index), list(filtered_df.values)\n",
    "        if len(set(df_commodity[\"Unit\"].values)) == 1:\n",
    "            unit = df_commodity[\"Unit\"].values[0]\n",
    "        else:\n",
    "            print \"ERROR: MULTIPLE TYPES OF UNIT FOR COMMODITY\"\n",
    "            print \"DETAILS ABOUT ERROR:\"\n",
    "            print commodity\n",
    "            print set(df[\"Unit\"].values)\n",
    "            return None \n",
    "        #ii. graph:\n",
    "        graph_bar(comparing_variable_list, yield_per_acre, comparing_variable, unit, commodity, year)\n",
    "\n",
    "#Function 6:\n",
    "def convert_unit(x, conversion_dict):\n",
    "    \"\"\"\n",
    "    INPUT: x (row of dataframe); conversion_dict (dict; unit conversion (key = \"commodity; value = conversion rate))\n",
    "    OUPUT: new_val (float)\n",
    "    OVERVIEW: N/A\n",
    "    \"\"\"\n",
    "    new_val = x['Value']\n",
    "    if x['Unit'].split(' / ')[0] == \"BU\":\n",
    "        new_val = round(new_val*conversion_dict[x['Commodity']],2)\n",
    "    return new_val\n",
    "\n",
    "#Function 7:\n",
    "def change_unit_name(x):\n",
    "    \"\"\"\n",
    "    INPUT: x (row of dataframe)\n",
    "    OUPUT: new_name (str)\n",
    "    OVERVIEW: N/A\n",
    "    \"\"\"\n",
    "    new_name = x['Unit']\n",
    "    if x['Unit'].split(' / ')[0] == \"BU\":\n",
    "        new_name = \"TONS\"+' / '+x['Unit'].split(' / ')[1]\n",
    "    return new_name\n",
    "\n",
    "#Function 8:\n",
    "def standardrize_unit(df, conversion_dict):\n",
    "    \"\"\"\n",
    "    INPUT: df(data frame), conversion_dict (dict; unit conversion (key = \"commodity; value = conversion rate))\n",
    "    OUTPUT: df(data frame)\n",
    "    OVERVIEW: standardrize data frame unit to ton/area\n",
    "    \"\"\"\n",
    "    df['Value'] = df.apply(convert_unit,axis=1, args = (conversion_dict,))\n",
    "    df['Unit'] = df.apply(change_unit_name,axis=1)\n",
    "    return df \n",
    "\n",
    "#Function 9:\n",
    "def graph_bar(x, y, x_label, y_label, title, year):\n",
    "    \"\"\"\n",
    "    INPUT: x (list of str of discrete variables), y (list of float values)\\\n",
    "        ,x_label (str of discrete variable types), y_label (float of y-axis unit)\\\n",
    "        ,title (str; title of graph), year (int)\n",
    "    OUTPUT: N/A\n",
    "    OVERVIEW: N/A\n",
    "    \"\"\"\n",
    "    with plt.style.context('fivethirtyeight'):\n",
    "        len_x = range(len(x))\n",
    "        plt.bar(len_x, y, align='center')\n",
    "        plt.xticks(len_x, x, rotation='vertical')\n",
    "        plt.xlabel(x_label)\n",
    "        plt.ylabel(y_label)\n",
    "        plt.title(title+\" ({})\".format(year))\n",
    "        plt.show()"
   ]
  },
  {
   "cell_type": "markdown",
   "metadata": {},
   "source": [
    "# Part II: Load/Clean Data: "
   ]
  },
  {
   "cell_type": "code",
   "execution_count": null,
   "metadata": {
    "collapsed": true
   },
   "outputs": [],
   "source": [
    "#0: Declaring Variables:\n",
    "master_attributes = set()"
   ]
  },
  {
   "cell_type": "code",
   "execution_count": null,
   "metadata": {
    "collapsed": false
   },
   "outputs": [],
   "source": [
    "#1: Load csv files: \n",
    "df_2000s = pd.read_csv(\"/Users/Hsieh/desktop/project/Data/Yield/CACropYield2000s.csv\")\n",
    "df_90s = pd.read_csv(\"/Users/Hsieh/desktop/project/Data/Yield/CACropYield90s.csv\")\n",
    "df_80s = pd.read_csv(\"/Users/Hsieh/desktop/project/Data/Yield/CACropYield80s.csv\")\n",
    "df_70s = pd.read_csv(\"/Users/Hsieh/desktop/project/Data/Yield/CACropYield70s.csv\")"
   ]
  },
  {
   "cell_type": "code",
   "execution_count": null,
   "metadata": {
    "collapsed": false
   },
   "outputs": [],
   "source": [
    "#2: Comibine into master dataframe: \n",
    "master_df = df_70s.append([df_80s, df_90s, df_2000s])\n",
    "master_df.sort(\"Year\", ascending=True, inplace=True)\n",
    "master_df.reset_index(inplace=True)\n",
    "#back up copy:\n",
    "master_df_copy = master_df.copy()"
   ]
  },
  {
   "cell_type": "code",
   "execution_count": null,
   "metadata": {
    "collapsed": false
   },
   "outputs": [],
   "source": [
    "#3: Refine dataframe: \n",
    "#a) filter unnecessary values:\n",
    "master_df = master_df[master_df['Domain']=='TOTAL']\n",
    "master_df = master_df[master_df['Period']=='YEAR']\n",
    "master_df = master_df[master_df[\"County\"]!='OTHER (COMBINED) COUNTIES']\n",
    "#b) drop unnecessary columns:\n",
    "master_df.drop(['Program', 'Week Ending','Geo Level', 'State', 'State ANSI','Ag District Code','County ANSI' \\\n",
    "                ,'Zip Code','Region', 'watershed_code','Watershed', 'Domain', 'Domain Category', 'CV (%)','Period'\\\n",
    "                ,'index','Ag District'\n",
    "               ], axis=1, inplace=True)"
   ]
  },
  {
   "cell_type": "code",
   "execution_count": null,
   "metadata": {
    "collapsed": false,
    "scrolled": true
   },
   "outputs": [],
   "source": [
    "#4: Parse \"Data Item\" column and add new columns: \n",
    "#a) filter out rows in \"Data Item\" with the word \"YIELD\":\n",
    "master_df = master_df[master_df[\"Data Item\"].apply(lambda x: True if (\"YIELD\" in x) else False)]\n",
    "#b) parse String in \"Data Item\":\n",
    "#add new column: \"Crop Attributes\"(set; attributes of associated crops), \"Unit\"(string; yield unit):\n",
    "master_df[\"Crop Attributes\"], master_df[\"Unit\"] = zip(*master_df[\"Data Item\"].apply(parse_data_item))"
   ]
  },
  {
   "cell_type": "code",
   "execution_count": null,
   "metadata": {
    "collapsed": true
   },
   "outputs": [],
   "source": [
    "#5: Add attributes in \"Crop Attributes\" as dummy variables: \n",
    "add_columns(master_df, master_attributes)"
   ]
  },
  {
   "cell_type": "code",
   "execution_count": null,
   "metadata": {
    "collapsed": false
   },
   "outputs": [],
   "source": [
    "#6: \"Data Item\" values: \n",
    "#master_df['Data Item'].unique()"
   ]
  },
  {
   "cell_type": "code",
   "execution_count": null,
   "metadata": {
    "collapsed": false
   },
   "outputs": [],
   "source": [
    "#7: convert values in column \"Unit\" to float:\n",
    "master_df[\"Value\"] = master_df[\"Value\"].apply(lambda x: float(x.replace(\",\",\"\")))"
   ]
  },
  {
   "cell_type": "markdown",
   "metadata": {},
   "source": [
    "# Part III: EDA: "
   ]
  },
  {
   "cell_type": "markdown",
   "metadata": {},
   "source": [
    "## a) Overview: "
   ]
  },
  {
   "cell_type": "code",
   "execution_count": null,
   "metadata": {
    "collapsed": false
   },
   "outputs": [],
   "source": [
    "#1: original column names:\n",
    "master_df.columns"
   ]
  },
  {
   "cell_type": "code",
   "execution_count": null,
   "metadata": {
    "collapsed": false
   },
   "outputs": [],
   "source": [
    "#2: make df for model: \n",
    "#drop unnecessary columns: \n",
    "archive_columns = [\"Data Item\",\"Crop Attributes\",\"PROCESSING\",\"DRY EDIBLE\",\"OTHER\",\"IN THE OPEN\"]\n",
    "model_df = master_df.drop(archive_columns, axis=1, inplace=False)"
   ]
  },
  {
   "cell_type": "code",
   "execution_count": null,
   "metadata": {
    "collapsed": false
   },
   "outputs": [],
   "source": [
    "#3: model column names:\n",
    "model_df.columns"
   ]
  },
  {
   "cell_type": "code",
   "execution_count": null,
   "metadata": {
    "collapsed": false
   },
   "outputs": [],
   "source": [
    "#4: general commodity types:\n",
    "model_df[\"Commodity\"].unique()"
   ]
  },
  {
   "cell_type": "code",
   "execution_count": null,
   "metadata": {
    "collapsed": true
   },
   "outputs": [],
   "source": [
    "#5: pre/post 1990:\n",
    "#a: pre 1990:\n",
    "pre_1990_df = model_df[model_df[\"Year\"]<=1989]\n",
    "#b: post 1990:\n",
    "post_1990_df = model_df[model_df[\"Year\"]>1989]"
   ]
  },
  {
   "cell_type": "code",
   "execution_count": null,
   "metadata": {
    "collapsed": false
   },
   "outputs": [],
   "source": [
    "#6: count of net acre harvested v.s. count of acre harvested:\n",
    "print \"PRE-1990:\"\n",
    "print pre_1990_df[\"Unit\"].value_counts()\n",
    "#b: post 1990:\n",
    "post_1990_df = model_df[model_df[\"Year\"]>1989]\n",
    "print \"POST-1989\"\n",
    "print post_1990_df[\"Unit\"].value_counts()\n",
    "#c: conclusion: \n",
    "#i. after 1989, almost only unit/acre data avaliable \n",
    "#ii. before 1989 (1989 included): about 50/5"
   ]
  },
  {
   "cell_type": "code",
   "execution_count": null,
   "metadata": {
    "collapsed": false
   },
   "outputs": [],
   "source": [
    "#7: cout irrigated vs non-rrigated vs n/a:\n",
    "#a) all time: \n",
    "count_irrigation(model_df, \"all time\")\n",
    "#b) pre-1900:\n",
    "count_irrigation(pre_1990_df, \"pre 1900\")\n",
    "#c) post-1900:\n",
    "count_irrigation(post_1990_df, \"post 1900\")\n",
    "#d) conclusion: \n",
    "#ratio about constant over the years (3 times more non-irrigated crops than irrigated crops )"
   ]
  },
  {
   "cell_type": "code",
   "execution_count": null,
   "metadata": {
    "collapsed": false
   },
   "outputs": [],
   "source": [
    "#8: total # crop types over the years (out put every 10 year mark):\n",
    "for year in xrange(1990, 2020, 5):\n",
    "    count_sub_type(model_df, year)\n",
    "    print \"************************\""
   ]
  },
  {
   "cell_type": "markdown",
   "metadata": {},
   "source": [
    "## b) Feature Engineering: "
   ]
  },
  {
   "cell_type": "code",
   "execution_count": null,
   "metadata": {
    "collapsed": true
   },
   "outputs": [],
   "source": [
    "#1: creating conversion rates for diff units (for crops measured in bu)\n",
    "#resources: \n",
    "#https://www.agric.gov.ab.ca/app19/calc/crop/bushel2tonne.jsp\n",
    "#http://www.grains.org/buyingselling/conversion-factors\n",
    "\n",
    "tonne_per_ton = 0.907185\n",
    "#tonne_per_bu for each commodities: \n",
    "tonne_bu_dict = OrderedDict({\"CORN\":0.25, \"BARLEY\": 0.021, \"WHEAT\":0.027, \"SORGHUM\":0.25, \"OATS\":0.015})\n",
    "#ton_per_bu for each commodities:\n",
    "ton_bu_dict = {}\n",
    "for commodity in tonne_bu_dict:\n",
    "    ton_bu_dict[commodity] = tonne_bu_dict[commodity]/tonne_per_ton"
   ]
  },
  {
   "cell_type": "code",
   "execution_count": null,
   "metadata": {
    "collapsed": false
   },
   "outputs": [],
   "source": [
    "print ton_bu_dict"
   ]
  },
  {
   "cell_type": "code",
   "execution_count": null,
   "metadata": {
    "collapsed": false
   },
   "outputs": [],
   "source": [
    "#2: standardized df unit to 'TONS / ACRE':\n",
    "model_df = standardrize_unit(model_df, ton_bu_dict)"
   ]
  },
  {
   "cell_type": "markdown",
   "metadata": {},
   "source": [
    "## c) Graphs (for each crop types) (w/ 2014):"
   ]
  },
  {
   "cell_type": "code",
   "execution_count": null,
   "metadata": {
    "collapsed": true
   },
   "outputs": [],
   "source": [
    "year = 2011"
   ]
  },
  {
   "cell_type": "markdown",
   "metadata": {
    "collapsed": true
   },
   "source": [
    "## i: Bar Graphs: \"yield/acre\" v.s. \"counties\" "
   ]
  },
  {
   "cell_type": "code",
   "execution_count": null,
   "metadata": {
    "collapsed": false
   },
   "outputs": [],
   "source": [
    "graph_yield(model_df, year, 'County')"
   ]
  },
  {
   "cell_type": "markdown",
   "metadata": {},
   "source": [
    "## d) Multicollinearity:"
   ]
  },
  {
   "cell_type": "code",
   "execution_count": null,
   "metadata": {
    "collapsed": false
   },
   "outputs": [],
   "source": [
    "#N/A"
   ]
  },
  {
   "cell_type": "markdown",
   "metadata": {},
   "source": [
    "# Part IV: Features Selection: "
   ]
  },
  {
   "cell_type": "code",
   "execution_count": null,
   "metadata": {
    "collapsed": false
   },
   "outputs": [],
   "source": [
    "#N/A"
   ]
  },
  {
   "cell_type": "markdown",
   "metadata": {},
   "source": [
    "# Part V: Models:"
   ]
  },
  {
   "cell_type": "code",
   "execution_count": null,
   "metadata": {
    "collapsed": false
   },
   "outputs": [],
   "source": []
  },
  {
   "cell_type": "markdown",
   "metadata": {
    "collapsed": true
   },
   "source": [
    "## a) 1st Model (timeseries on future yield):"
   ]
  },
  {
   "cell_type": "code",
   "execution_count": null,
   "metadata": {
    "collapsed": true
   },
   "outputs": [],
   "source": []
  },
  {
   "cell_type": "markdown",
   "metadata": {},
   "source": [
    "# Part VI: Assessment: "
   ]
  },
  {
   "cell_type": "code",
   "execution_count": null,
   "metadata": {
    "collapsed": true
   },
   "outputs": [],
   "source": []
  },
  {
   "cell_type": "markdown",
   "metadata": {},
   "source": [
    "# Part VII: Conclusions:"
   ]
  },
  {
   "cell_type": "code",
   "execution_count": null,
   "metadata": {
    "collapsed": false
   },
   "outputs": [],
   "source": []
  },
  {
   "cell_type": "markdown",
   "metadata": {},
   "source": [
    "# Part VIII: Archive Code:"
   ]
  },
  {
   "cell_type": "code",
   "execution_count": null,
   "metadata": {
    "collapsed": false
   },
   "outputs": [],
   "source": [
    "#1: \n",
    "\n",
    "#a) Handpick column names that specifies the type of crop (commodity): \n",
    "#NOTED: only beans have \"DRY EDIBLE\", \n",
    "#sub_domain = [\"DURUM\",\"GRAIN\",\"SMALL\",\"UPLAND\",\"LIMA\",\"WHITE\",\"KIDNEY\",\"SILAGE\",\"CHICKPEAS\"]\n",
    "\n",
    "#b): Add these sub_domain name to \"Commodity\" name: \n",
    "#add_sub_domain(master_df, sub_domain)\n",
    "#Function 3: Add sub_domain name to \"Commodity\" name, then remove the sub_domain names from columns:\n",
    "\"\"\"\n",
    "def add_sub_domain(df, l):\n",
    "    #INPUT: df (data frame), l (list of sub_domain names )\n",
    "    #OUTPUT: N/A\n",
    "    #OVERVIEW: FILL IN \n",
    "    for name in l:\n",
    "        if df.ix[:, name] == 1:\n",
    "\"\"\"\n",
    "\n",
    "#2: \n",
    "\n",
    "#Pivot data frame so it is right for time series: \n",
    "#this line has the basic features:\n",
    "#index_list = [\"County\",\"Commodity\",\"Unit\",\\\n",
    "#this line has the season harvested:\n",
    "#              \"SPRING\",\"FOLLOWING SUMMER FALLOW\",\"WINTER\",\"CONTINUOUS CROP\",\\\n",
    "#this line has the type of famring techniques used: \n",
    "#              \"IRRIGATED\",\"NON-IRRIGATED\",\\\n",
    "#this line has the sub_domains:\n",
    "#              \"DURUM\",\"GRAIN\",\"SMALL\",\"UPLAND\",\"LIMA\",\"WHITE\",\\\n",
    "#              \"KIDNEY\",\"SILAGE\",\"RED\",\"PIMA\",\"CHICKPEAS\",\\\n",
    "#this line has the usage types:\n",
    "#              \"OIL TYPE\",\"NON-OIL TYPE\"]\n",
    "\n",
    "#p_model_df = pd.pivot_table(model_df, values=\"Value\", index=index_list, columns=[\"Year\"])"
   ]
  }
 ],
 "metadata": {
  "kernelspec": {
   "display_name": "Python 2",
   "language": "python",
   "name": "python2"
  },
  "language_info": {
   "codemirror_mode": {
    "name": "ipython",
    "version": 2
   },
   "file_extension": ".py",
   "mimetype": "text/x-python",
   "name": "python",
   "nbconvert_exporter": "python",
   "pygments_lexer": "ipython2",
   "version": "2.7.11"
  }
 },
 "nbformat": 4,
 "nbformat_minor": 0
}
