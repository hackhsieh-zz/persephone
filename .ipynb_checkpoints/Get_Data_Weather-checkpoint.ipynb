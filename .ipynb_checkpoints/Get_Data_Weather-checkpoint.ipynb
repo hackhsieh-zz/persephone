{
 "cells": [
  {
   "cell_type": "markdown",
   "metadata": {},
   "source": [
    "# 0: Libraries:"
   ]
  },
  {
   "cell_type": "code",
   "execution_count": 54,
   "metadata": {
    "collapsed": true
   },
   "outputs": [],
   "source": [
    "import requests \n",
    "import json\n",
    "import csv \n",
    "import urllib2 \n",
    "import pandas as pd "
   ]
  },
  {
   "cell_type": "markdown",
   "metadata": {},
   "source": [
    "# 1: Declaring Variables:"
   ]
  },
  {
   "cell_type": "code",
   "execution_count": 55,
   "metadata": {
    "collapsed": true
   },
   "outputs": [],
   "source": [
    "#source: http://www.ers.usda.gov/faqs.aspx (top 10 agriculture states)\n",
    "targest_states = [\"California\", \"Iowa\", \"Texas\", \"Nebraska\", \"Illinois\", \"Minnesota\", \"Kansas\", \"Indiana\", \"North Carolina\", \"Wisconsin\"]\n",
    "targest_states = [state.upper() for state in targest_states]"
   ]
  },
  {
   "cell_type": "code",
   "execution_count": 56,
   "metadata": {
    "collapsed": true
   },
   "outputs": [],
   "source": [
    "master_filename, data_category = \"weather_{}\", \"Weather\"\n",
    "weather_bad_years = []\n",
    "start_year, end_year = 1970, 1971\n",
    "weather_token = \"lPtLBRYazwyqSgrWteXkaHStbdlWzqvV\"\n",
    "\n",
    "#I: DataSet:\n",
    "\n",
    "#description: \"Annual Summaries\"\n",
    "datasetid = \"ANNUAL\"\n",
    "\n",
    "#II: Time frame: \n",
    "master_startdate, master_enddate = \"{}-01-01\", \"{}-12-31\"\n",
    "\n",
    "#III: masater url:\n",
    "master_url = \"http://www.ncdc.noaa.gov/cdo-web/api/v2/data?datasetid={datasetid}&startdate={startdate}&enddate={enddate}&units=metric&limit=1000\""
   ]
  },
  {
   "cell_type": "markdown",
   "metadata": {},
   "source": [
    "# 2: Functions:"
   ]
  },
  {
   "cell_type": "code",
   "execution_count": 29,
   "metadata": {
    "collapsed": true
   },
   "outputs": [],
   "source": [
    "#function 1: grab file with url and write to json file (weather):\n",
    "def GetDataFromUrl(url, filename, data_category, token):\n",
    "    headers = {\"token\": token}\n",
    "    r = requests.get(url, headers=headers)\n",
    "    print r\n",
    "    with open('Data/{}/{}.json'.format(data_category, filename), 'w') as f:\n",
    "        json.dump(r.json(), f)"
   ]
  },
  {
   "cell_type": "code",
   "execution_count": 30,
   "metadata": {
    "collapsed": true
   },
   "outputs": [],
   "source": [
    "#function 2: read json file into pd data frame (weather):\n",
    "def json_to_df(filename, data_category):\n",
    "    with open('Data/{}/{}'.format(data_category, filename)) as f:\n",
    "        data = json.load(f)\n",
    "    return pd.DataFrame.from_dict(data[\"results\"])"
   ]
  },
  {
   "cell_type": "code",
   "execution_count": 31,
   "metadata": {
    "collapsed": true
   },
   "outputs": [],
   "source": [
    "#function 3: generate weather data in csv form year by year: \n",
    "def generate_yield_data(year):\n",
    "    filename = master_filename.format(year)\n",
    "    startdate, enddate = master_startdate.format(year), master_enddate.format(year)\n",
    "    yearly_url = master_url.format(datasetid=datasetid, startdate=startdate, enddate=enddate)\n",
    "    try:\n",
    "        print \"this is year: {}\".format(year)\n",
    "        GetDataFromUrl(yearly_url, filename, data_category, weather_token)\n",
    "    except: \n",
    "        weather_bad_years.append(year)\n",
    "        print \"{} doesn't work!!!!!\".format(year)\n",
    "        return \n",
    "    weather_df = json_to_df(\"{}.json\".format(filename), data_category)\n",
    "    weather_df.to_csv(\"Data/{}/{}.csv\".format(data_category, filename))"
   ]
  },
  {
   "cell_type": "markdown",
   "metadata": {},
   "source": [
    "# 3. Weather Data:"
   ]
  },
  {
   "cell_type": "code",
   "execution_count": null,
   "metadata": {
    "collapsed": false
   },
   "outputs": [
    {
     "name": "stdout",
     "output_type": "stream",
     "text": [
      "this is year: 1970\n"
     ]
    }
   ],
   "source": [
    "for year in xrange(start_year, end_year+1):\n",
    "    generate_yield_data(year)"
   ]
  },
  {
   "cell_type": "markdown",
   "metadata": {},
   "source": [
    "# 4. Archive Code: "
   ]
  },
  {
   "cell_type": "code",
   "execution_count": 26,
   "metadata": {
    "collapsed": true
   },
   "outputs": [],
   "source": [
    "#I: Locations:\n",
    "#description: \"Country\", \"County\", \"State\"\n",
    "#locationid1, locationid2, locationid3 = \"CNTRY:UNITED STATES\", \"CNTY\", \"ST\""
   ]
  },
  {
   "cell_type": "markdown",
   "metadata": {},
   "source": [
    "# 5. Test:"
   ]
  },
  {
   "cell_type": "code",
   "execution_count": 37,
   "metadata": {
    "collapsed": false
   },
   "outputs": [
    {
     "name": "stderr",
     "output_type": "stream",
     "text": [
      "//anaconda/lib/python2.7/site-packages/IPython/core/interactiveshell.py:2723: DtypeWarning: Columns (2,3,4) have mixed types. Specify dtype option on import or set low_memory=False.\n",
      "  interactivity=interactivity, compiler=compiler, result=result)\n"
     ]
    }
   ],
   "source": [
    "df = pd.read_csv(\"Data/Weather/test.csv\")"
   ]
  },
  {
   "cell_type": "code",
   "execution_count": 38,
   "metadata": {
    "collapsed": false
   },
   "outputs": [
    {
     "data": {
      "text/plain": [
       "Index([u'STATION', u'STATION_NAME', u'ELEVATION', u'LATITUDE', u'LONGITUDE',\n",
       "       u'DATE', u'CLDD', u'Measurement Flag', u'Quality Flag',\n",
       "       u'Number of Days',\n",
       "       ...\n",
       "       u'MNTM', u'Measurement Flag.71', u'Quality Flag.71',\n",
       "       u'Number of Days.71', u'Units.71', u'TWND', u'Measurement Flag.72',\n",
       "       u'Quality Flag.72', u'Number of Days.72', u'Units.72'],\n",
       "      dtype='object', length=371)"
      ]
     },
     "execution_count": 38,
     "metadata": {},
     "output_type": "execute_result"
    }
   ],
   "source": [
    "df.columns"
   ]
  },
  {
   "cell_type": "code",
   "execution_count": 49,
   "metadata": {
    "collapsed": false
   },
   "outputs": [
    {
     "name": "stdout",
     "output_type": "stream",
     "text": [
      "['STATION', 'STATION_NAME', 'ELEVATION', 'LATITUDE', 'LONGITUDE', 'DATE', 'CLDD', 'Measurement Flag', 'Quality Flag', 'Number of Days', 'Units', 'DPNP', 'Measurement Flag.1', 'Quality Flag.1', 'Number of Days.1', 'Units.1', 'DPNT', 'Measurement Flag.2', 'Quality Flag.2', 'Number of Days.2', 'Units.2', 'HTDD', 'Measurement Flag.3', 'Quality Flag.3', 'Number of Days.3', 'Units.3', 'DT90', 'Measurement Flag.4', 'Quality Flag.4', 'Number of Days.4', 'Units.4', 'DX32', 'Measurement Flag.5', 'Quality Flag.5', 'Number of Days.5', 'Units.5', 'DT00', 'Measurement Flag.6', 'Quality Flag.6', 'Number of Days.6', 'Units.6', 'DT32', 'Measurement Flag.7', 'Quality Flag.7', 'Number of Days.7', 'Units.7', 'DP01', 'Measurement Flag.8', 'Quality Flag.8', 'Number of Days.8', 'Units.8', 'DP05', 'Measurement Flag.9', 'Quality Flag.9', 'Number of Days.9', 'Units.9', 'DP10', 'Measurement Flag.10', 'Quality Flag.10', 'Number of Days.10', 'Units.10', 'MMXP', 'Measurement Flag.11', 'Quality Flag.11', 'Number of Days.11', 'Units.11', 'MMNP', 'Measurement Flag.12', 'Quality Flag.12', 'Number of Days.12', 'Units.12', 'TEVP', 'Measurement Flag.13', 'Quality Flag.13', 'Number of Days.13', 'Units.13', 'HX3290', 'Measurement Flag.14', 'Quality Flag.14', 'Number of Days.14', 'Units.14', 'HX3299', 'Measurement Flag.15', 'Quality Flag.15', 'Number of Days.15', 'Units.15', 'HX3390', 'Measurement Flag.16', 'Quality Flag.16', 'Number of Days.16', 'Units.16', 'HX3399', 'Measurement Flag.17', 'Quality Flag.17', 'Number of Days.17', 'Units.17', 'HX3599', 'Measurement Flag.18', 'Quality Flag.18', 'Number of Days.18', 'Units.18', 'HX0290', 'Measurement Flag.19', 'Quality Flag.19', 'Number of Days.19', 'Units.19', 'HX0390', 'Measurement Flag.20', 'Quality Flag.20', 'Number of Days.20', 'Units.20', 'HN3290', 'Measurement Flag.21', 'Quality Flag.21', 'Number of Days.21', 'Units.21', 'HN3299', 'Measurement Flag.22', 'Quality Flag.22', 'Number of Days.22', 'Units.22', 'HN3390', 'Measurement Flag.23', 'Quality Flag.23', 'Number of Days.23', 'Units.23', 'HN3399', 'Measurement Flag.24', 'Quality Flag.24', 'Number of Days.24', 'Units.24', 'HN3599', 'Measurement Flag.25', 'Quality Flag.25', 'Number of Days.25', 'Units.25', 'HN0290', 'Measurement Flag.26', 'Quality Flag.26', 'Number of Days.26', 'Units.26', 'HN0390', 'Measurement Flag.27', 'Quality Flag.27', 'Number of Days.27', 'Units.27', 'HO34A0', 'Measurement Flag.28', 'Quality Flag.28', 'Number of Days.28', 'Units.28', 'HO04A0', 'Measurement Flag.29', 'Quality Flag.29', 'Number of Days.29', 'Units.29', 'LX3290', 'Measurement Flag.30', 'Quality Flag.30', 'Number of Days.30', 'Units.30', 'LX3299', 'Measurement Flag.31', 'Quality Flag.31', 'Number of Days.31', 'Units.31', 'LX3390', 'Measurement Flag.32', 'Quality Flag.32', 'Number of Days.32', 'Units.32', 'LX3399', 'Measurement Flag.33', 'Quality Flag.33', 'Number of Days.33', 'Units.33', 'LX3599', 'Measurement Flag.34', 'Quality Flag.34', 'Number of Days.34', 'Units.34', 'LX0290', 'Measurement Flag.35', 'Quality Flag.35', 'Number of Days.35', 'Units.35', 'LX0390', 'Measurement Flag.36', 'Quality Flag.36', 'Number of Days.36', 'Units.36', 'LN3290', 'Measurement Flag.37', 'Quality Flag.37', 'Number of Days.37', 'Units.37', 'LN3299', 'Measurement Flag.38', 'Quality Flag.38', 'Number of Days.38', 'Units.38', 'LN3390', 'Measurement Flag.39', 'Quality Flag.39', 'Number of Days.39', 'Units.39', 'LN3399', 'Measurement Flag.40', 'Quality Flag.40', 'Number of Days.40', 'Units.40', 'LN3599', 'Measurement Flag.41', 'Quality Flag.41', 'Number of Days.41', 'Units.41', 'LN0290', 'Measurement Flag.42', 'Quality Flag.42', 'Number of Days.42', 'Units.42', 'LN0390', 'Measurement Flag.43', 'Quality Flag.43', 'Number of Days.43', 'Units.43', 'LO34A0', 'Measurement Flag.44', 'Quality Flag.44', 'Number of Days.44', 'Units.44', 'LO04A0', 'Measurement Flag.45', 'Quality Flag.45', 'Number of Days.45', 'Units.45', 'MX3290', 'Measurement Flag.46', 'Quality Flag.46', 'Number of Days.46', 'Units.46', 'MX3299', 'Measurement Flag.47', 'Quality Flag.47', 'Number of Days.47', 'Units.47', 'MX3390', 'Measurement Flag.48', 'Quality Flag.48', 'Number of Days.48', 'Units.48', 'MX3399', 'Measurement Flag.49', 'Quality Flag.49', 'Number of Days.49', 'Units.49', 'MX3599', 'Measurement Flag.50', 'Quality Flag.50', 'Number of Days.50', 'Units.50', 'MX0290', 'Measurement Flag.51', 'Quality Flag.51', 'Number of Days.51', 'Units.51', 'MX0390', 'Measurement Flag.52', 'Quality Flag.52', 'Number of Days.52', 'Units.52', 'MN3290', 'Measurement Flag.53', 'Quality Flag.53', 'Number of Days.53', 'Units.53', 'MN3299', 'Measurement Flag.54', 'Quality Flag.54', 'Number of Days.54', 'Units.54', 'MN3390', 'Measurement Flag.55', 'Quality Flag.55', 'Number of Days.55', 'Units.55', 'MN3399', 'Measurement Flag.56', 'Quality Flag.56', 'Number of Days.56', 'Units.56', 'MN3599', 'Measurement Flag.57', 'Quality Flag.57', 'Number of Days.57', 'Units.57', 'MN0290', 'Measurement Flag.58', 'Quality Flag.58', 'Number of Days.58', 'Units.58', 'MN0390', 'Measurement Flag.59', 'Quality Flag.59', 'Number of Days.59', 'Units.59', 'MO34A0', 'Measurement Flag.60', 'Quality Flag.60', 'Number of Days.60', 'Units.60', 'MO04A0', 'Measurement Flag.61', 'Quality Flag.61', 'Number of Days.61', 'Units.61', 'EMXP', 'Measurement Flag.62', 'Quality Flag.62', 'Number of Days.62', 'Units.62', 'MXSD', 'Measurement Flag.63', 'Quality Flag.63', 'Number of Days.63', 'Units.63', 'DSNW', 'Measurement Flag.64', 'Quality Flag.64', 'Number of Days.64', 'Units.64', 'TPCP', 'Measurement Flag.65', 'Quality Flag.65', 'Number of Days.65', 'Units.65', 'TSNW', 'Measurement Flag.66', 'Quality Flag.66', 'Number of Days.66', 'Units.66', 'EMXT', 'Measurement Flag.67', 'Quality Flag.67', 'Number of Days.67', 'Units.67', 'EMNT', 'Measurement Flag.68', 'Quality Flag.68', 'Number of Days.68', 'Units.68', 'MMXT', 'Measurement Flag.69', 'Quality Flag.69', 'Number of Days.69', 'Units.69', 'MMNT', 'Measurement Flag.70', 'Quality Flag.70', 'Number of Days.70', 'Units.70', 'MNTM', 'Measurement Flag.71', 'Quality Flag.71', 'Number of Days.71', 'Units.71', 'TWND', 'Measurement Flag.72', 'Quality Flag.72', 'Number of Days.72', 'Units.72']\n"
     ]
    }
   ],
   "source": [
    "print list(df.columns)"
   ]
  },
  {
   "cell_type": "code",
   "execution_count": 50,
   "metadata": {
    "collapsed": false
   },
   "outputs": [
    {
     "data": {
      "text/plain": [
       "0                          LOST HILLS CA US\n",
       "1                          LOST HILLS CA US\n",
       "2                          LOST HILLS CA US\n",
       "3                          LOST HILLS CA US\n",
       "4                          LOST HILLS CA US\n",
       "5                          LOST HILLS CA US\n",
       "6                          LOST HILLS CA US\n",
       "7                          LOST HILLS CA US\n",
       "8                          LOST HILLS CA US\n",
       "9                          LOST HILLS CA US\n",
       "10                         LOST HILLS CA US\n",
       "11                         LOST HILLS CA US\n",
       "12                         LOST HILLS CA US\n",
       "13                         LOST HILLS CA US\n",
       "14                         LOST HILLS CA US\n",
       "15                         LOST HILLS CA US\n",
       "16                         LOST HILLS CA US\n",
       "17                         LOST HILLS CA US\n",
       "18                         LOST HILLS CA US\n",
       "19                         LOST HILLS CA US\n",
       "20                         LOST HILLS CA US\n",
       "21       STIRLING CITY RANGER STATION CA US\n",
       "22                             WELDON CA US\n",
       "23                             WELDON CA US\n",
       "24                             WELDON CA US\n",
       "25                             WELDON CA US\n",
       "26                             WELDON CA US\n",
       "27                             WELDON CA US\n",
       "28                             WELDON CA US\n",
       "29                             WELDON CA US\n",
       "                        ...                \n",
       "17470                         LA MESA CA US\n",
       "17471                         LA MESA CA US\n",
       "17472                         LA MESA CA US\n",
       "17473                         LA MESA CA US\n",
       "17474                         LA MESA CA US\n",
       "17475                         LA MESA CA US\n",
       "17476                         LA MESA CA US\n",
       "17477                         LA MESA CA US\n",
       "17478                         LA MESA CA US\n",
       "17479                         LA MESA CA US\n",
       "17480                   GRIZZLY FLATS CA US\n",
       "17481                   GRIZZLY FLATS CA US\n",
       "17482                   GRIZZLY FLATS CA US\n",
       "17483                   GRIZZLY FLATS CA US\n",
       "17484                   GRIZZLY FLATS CA US\n",
       "17485                   GRIZZLY FLATS CA US\n",
       "17486                   GRIZZLY FLATS CA US\n",
       "17487                   GRIZZLY FLATS CA US\n",
       "17488                   GRIZZLY FLATS CA US\n",
       "17489                   GRIZZLY FLATS CA US\n",
       "17490                   GRIZZLY FLATS CA US\n",
       "17491                   GRIZZLY FLATS CA US\n",
       "17492                   GRIZZLY FLATS CA US\n",
       "17493                   GRIZZLY FLATS CA US\n",
       "17494                   GRIZZLY FLATS CA US\n",
       "17495                   GRIZZLY FLATS CA US\n",
       "17496                   GRIZZLY FLATS CA US\n",
       "17497                   GRIZZLY FLATS CA US\n",
       "17498                   GRIZZLY FLATS CA US\n",
       "17499                   GRIZZLY FLATS CA US\n",
       "Name: STATION_NAME, dtype: object"
      ]
     },
     "execution_count": 50,
     "metadata": {},
     "output_type": "execute_result"
    }
   ],
   "source": [
    "df['STATION_NAME']"
   ]
  },
  {
   "cell_type": "code",
   "execution_count": null,
   "metadata": {
    "collapsed": true
   },
   "outputs": [],
   "source": []
  }
 ],
 "metadata": {
  "kernelspec": {
   "display_name": "Python 2",
   "language": "python",
   "name": "python2"
  },
  "language_info": {
   "codemirror_mode": {
    "name": "ipython",
    "version": 2
   },
   "file_extension": ".py",
   "mimetype": "text/x-python",
   "name": "python",
   "nbconvert_exporter": "python",
   "pygments_lexer": "ipython2",
   "version": "2.7.11"
  }
 },
 "nbformat": 4,
 "nbformat_minor": 0
}
