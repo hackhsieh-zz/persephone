{
 "cells": [
  {
   "cell_type": "markdown",
   "metadata": {},
   "source": [
    "# Part 0: Libraries:"
   ]
  },
  {
   "cell_type": "code",
   "execution_count": 1,
   "metadata": {
    "collapsed": true
   },
   "outputs": [],
   "source": [
    "from matplotlib import pyplot as plt\n",
    "import pandas as pd\n",
    "import numpy as np\n",
    "%matplotlib inline"
   ]
  },
  {
   "cell_type": "markdown",
   "metadata": {},
   "source": [
    "# Part I: Functions:"
   ]
  },
  {
   "cell_type": "code",
   "execution_count": 2,
   "metadata": {
    "collapsed": false
   },
   "outputs": [],
   "source": [
    "#Function 1: Parse String in column \"Data Item\": \n",
    "def parse_data_item(s):\n",
    "    \"\"\"\n",
    "    INPUT: s (string; description of data value)\n",
    "    OUTPUT: attributes (set of strings; sub-domain/yield-type/season-harvested etc.) \\\n",
    "        unit (string; ex. BU/net harvested acre) \n",
    "    OVERVIEW: FILL IN \n",
    "    \"\"\"\n",
    "    left, unit = s.split(\" - YIELD, MEASURED IN \")\n",
    "    attributes = set(left.split(\", \")[1:])\n",
    "    master_attributes.update(attributes)\n",
    "    return attributes, unit\n",
    "\n",
    "#Function 2: Add new columns to dataframe: \n",
    "def add_columns(df, s):\n",
    "    \"\"\"\n",
    "    INPUT: df (data frame), s (set of strings of column names )\n",
    "    OUTPUT: N/A\n",
    "    OVERVIEW: FILL IN \n",
    "    \"\"\"\n",
    "    for name in s:\n",
    "        df[name] = df[\"Crop Attributes\"].apply(lambda x: 1 if (name in x) else 0) "
   ]
  },
  {
   "cell_type": "markdown",
   "metadata": {},
   "source": [
    "# Part II: Load/Clean Data: "
   ]
  },
  {
   "cell_type": "code",
   "execution_count": 3,
   "metadata": {
    "collapsed": true
   },
   "outputs": [],
   "source": [
    "#0: Declaring Variables:\n",
    "\n",
    "master_attributes = set()"
   ]
  },
  {
   "cell_type": "code",
   "execution_count": 4,
   "metadata": {
    "collapsed": false
   },
   "outputs": [],
   "source": [
    "#1: Load csv files: \n",
    "\n",
    "df_2000s = pd.read_csv(\"/Users/Hsieh/desktop/project/Data/Yield/CACropYield2000s.csv\")\n",
    "df_90s = pd.read_csv(\"/Users/Hsieh/desktop/project/Data/Yield/CACropYield90s.csv\")\n",
    "df_80s = pd.read_csv(\"/Users/Hsieh/desktop/project/Data/Yield/CACropYield80s.csv\")\n",
    "df_70s = pd.read_csv(\"/Users/Hsieh/desktop/project/Data/Yield/CACropYield70s.csv\")"
   ]
  },
  {
   "cell_type": "code",
   "execution_count": 5,
   "metadata": {
    "collapsed": false
   },
   "outputs": [
    {
     "name": "stderr",
     "output_type": "stream",
     "text": [
      "/anaconda/lib/python2.7/site-packages/ipykernel/__main__.py:4: FutureWarning: sort(columns=....) is deprecated, use sort_values(by=.....)\n"
     ]
    }
   ],
   "source": [
    "#2: Comibine into master dataframe: \n",
    "\n",
    "master_df = df_70s.append([df_80s, df_90s, df_2000s])\n",
    "master_df.sort(\"Year\", ascending=True, inplace=True)\n",
    "master_df.reset_index(inplace=True)\n",
    "#back up copy:\n",
    "master_df_copy = master_df.copy()"
   ]
  },
  {
   "cell_type": "code",
   "execution_count": 6,
   "metadata": {
    "collapsed": false
   },
   "outputs": [],
   "source": [
    "#3: Refine dataframe: \n",
    "\n",
    "#a) filter unnecessary values:\n",
    "master_df = master_df[master_df['Domain']=='TOTAL']\n",
    "master_df = master_df[master_df['Period']=='YEAR']\n",
    "master_df = master_df[master_df[\"County\"]!='OTHER (COMBINED) COUNTIES']\n",
    "#b) drop unnecessary columns:\n",
    "master_df.drop(['Program', 'Week Ending','Geo Level', 'State', 'State ANSI','Ag District Code','County ANSI' \\\n",
    "                ,'Zip Code','Region', 'watershed_code','Watershed', 'Domain', 'Domain Category', 'CV (%)','Period'\\\n",
    "                ,'index','Ag District'\n",
    "               ], axis=1, inplace=True)"
   ]
  },
  {
   "cell_type": "code",
   "execution_count": 7,
   "metadata": {
    "collapsed": false,
    "scrolled": true
   },
   "outputs": [],
   "source": [
    "#4: Parse \"Data Item\" column and add new columns: \n",
    "\n",
    "#a) filter out rows in \"Data Item\" with the word \"YIELD\":\n",
    "master_df = master_df[master_df[\"Data Item\"].apply(lambda x: True if (\"YIELD\" in x) else False)]\n",
    "#b) parse String in \"Data Item\":\n",
    "#add new column: \"Crop Attributes\"(set; attributes of associated crops), \"Unit\"(string; yield unit):\n",
    "master_df[\"Crop Attributes\"], master_df[\"Unit\"] = zip(*master_df[\"Data Item\"].apply(parse_data_item))\n",
    "#c) delete \"OTHER\" from set master_attributes (not actually an attribute): \n",
    "master_attributes.remove(\"OTHER\")"
   ]
  },
  {
   "cell_type": "code",
   "execution_count": 8,
   "metadata": {
    "collapsed": true
   },
   "outputs": [],
   "source": [
    "#5: Add attributes in \"Crop Attributes\" as dummy variables: \n",
    "\n",
    "add_columns(master_df, master_attributes)"
   ]
  },
  {
   "cell_type": "code",
   "execution_count": 15,
   "metadata": {
    "collapsed": false
   },
   "outputs": [
    {
     "data": {
      "text/plain": [
       "array(['CORN, GRAIN - YIELD, MEASURED IN BU / ACRE',\n",
       "       'BARLEY - YIELD, MEASURED IN BU / ACRE',\n",
       "       'WHEAT, WINTER - YIELD, MEASURED IN BU / ACRE',\n",
       "       'WHEAT - YIELD, MEASURED IN BU / ACRE',\n",
       "       'RICE - YIELD, MEASURED IN LB / ACRE',\n",
       "       'COTTON, UPLAND - YIELD, MEASURED IN LB / ACRE',\n",
       "       'BARLEY, NON-IRRIGATED, CONTINUOUS CROP - YIELD, MEASURED IN BU / NET PLANTED ACRE',\n",
       "       'BARLEY, NON-IRRIGATED, CONTINUOUS CROP - YIELD, MEASURED IN BU / ACRE',\n",
       "       'RICE - YIELD, MEASURED IN LB / NET PLANTED ACRE',\n",
       "       'BARLEY, NON-IRRIGATED - YIELD, MEASURED IN BU / NET PLANTED ACRE',\n",
       "       'BARLEY, NON-IRRIGATED - YIELD, MEASURED IN BU / ACRE',\n",
       "       'BARLEY, NON-IRRIGATED, FOLLOWING SUMMER FALLOW - YIELD, MEASURED IN BU / ACRE',\n",
       "       'BARLEY, NON-IRRIGATED, FOLLOWING SUMMER FALLOW - YIELD, MEASURED IN BU / NET PLANTED ACRE',\n",
       "       'BARLEY, IRRIGATED - YIELD, MEASURED IN BU / NET PLANTED ACRE',\n",
       "       'SORGHUM, GRAIN - YIELD, MEASURED IN BU / ACRE',\n",
       "       'WHEAT - YIELD, MEASURED IN BU / NET PLANTED ACRE',\n",
       "       'BARLEY - YIELD, MEASURED IN BU / NET PLANTED ACRE',\n",
       "       'BARLEY, IRRIGATED - YIELD, MEASURED IN BU / ACRE',\n",
       "       'COTTON, UPLAND - YIELD, MEASURED IN LB / NET PLANTED ACRE',\n",
       "       'COTTON, PIMA - YIELD, MEASURED IN LB / ACRE',\n",
       "       'COTTON, PIMA - YIELD, MEASURED IN LB / NET PLANTED ACRE',\n",
       "       'WHEAT, WINTER, NON-IRRIGATED, FOLLOWING SUMMER FALLOW - YIELD, MEASURED IN BU / ACRE',\n",
       "       'WHEAT, WINTER, NON-IRRIGATED, CONTINUOUS CROP - YIELD, MEASURED IN BU / NET PLANTED ACRE',\n",
       "       'WHEAT, WINTER, NON-IRRIGATED, CONTINUOUS CROP - YIELD, MEASURED IN BU / ACRE',\n",
       "       'WHEAT, WINTER, NON-IRRIGATED - YIELD, MEASURED IN BU / NET PLANTED ACRE',\n",
       "       'BEANS, DRY EDIBLE, RED, KIDNEY - YIELD, MEASURED IN LB / NET PLANTED ACRE',\n",
       "       'WHEAT, WINTER, NON-IRRIGATED, FOLLOWING SUMMER FALLOW - YIELD, MEASURED IN BU / NET PLANTED ACRE',\n",
       "       'OATS - YIELD, MEASURED IN BU / ACRE',\n",
       "       'WHEAT, WINTER, NON-IRRIGATED - YIELD, MEASURED IN BU / ACRE',\n",
       "       'OATS - YIELD, MEASURED IN BU / NET PLANTED ACRE',\n",
       "       'CORN, SILAGE - YIELD, MEASURED IN TONS / ACRE',\n",
       "       'WHEAT, IRRIGATED - YIELD, MEASURED IN BU / NET PLANTED ACRE',\n",
       "       'WHEAT, IRRIGATED - YIELD, MEASURED IN BU / ACRE',\n",
       "       'WHEAT, NON-IRRIGATED - YIELD, MEASURED IN BU / ACRE',\n",
       "       'WHEAT, NON-IRRIGATED - YIELD, MEASURED IN BU / NET PLANTED ACRE',\n",
       "       'WHEAT, WINTER, IRRIGATED - YIELD, MEASURED IN BU / NET PLANTED ACRE',\n",
       "       'WHEAT, WINTER, IRRIGATED - YIELD, MEASURED IN BU / ACRE',\n",
       "       'WHEAT, WINTER - YIELD, MEASURED IN BU / NET PLANTED ACRE',\n",
       "       'WHEAT, NON-IRRIGATED, FOLLOWING SUMMER FALLOW - YIELD, MEASURED IN BU / ACRE',\n",
       "       'WHEAT, NON-IRRIGATED, CONTINUOUS CROP - YIELD, MEASURED IN BU / NET PLANTED ACRE',\n",
       "       'WHEAT, NON-IRRIGATED, CONTINUOUS CROP - YIELD, MEASURED IN BU / ACRE',\n",
       "       'WHEAT, NON-IRRIGATED, FOLLOWING SUMMER FALLOW - YIELD, MEASURED IN BU / NET PLANTED ACRE',\n",
       "       'OATS, NON-IRRIGATED - YIELD, MEASURED IN BU / ACRE',\n",
       "       'OATS, IRRIGATED - YIELD, MEASURED IN BU / NET PLANTED ACRE',\n",
       "       'OATS, IRRIGATED - YIELD, MEASURED IN BU / ACRE',\n",
       "       'OATS, NON-IRRIGATED - YIELD, MEASURED IN BU / NET PLANTED ACRE',\n",
       "       'WHEAT, SPRING, DURUM, IRRIGATED - YIELD, MEASURED IN BU / NET PLANTED ACRE',\n",
       "       'WHEAT, SPRING, DURUM, IRRIGATED - YIELD, MEASURED IN BU / ACRE',\n",
       "       'WHEAT, SPRING, DURUM - YIELD, MEASURED IN BU / NET PLANTED ACRE',\n",
       "       'WHEAT, SPRING, DURUM - YIELD, MEASURED IN BU / ACRE',\n",
       "       'COTTON, PIMA, NON-IRRIGATED - YIELD, MEASURED IN LB / NET PLANTED ACRE',\n",
       "       'COTTON, PIMA, NON-IRRIGATED - YIELD, MEASURED IN LB / ACRE',\n",
       "       'SUGARBEETS - YIELD, MEASURED IN TONS / ACRE',\n",
       "       'CORN, GRAIN - YIELD, MEASURED IN BU / NET PLANTED ACRE',\n",
       "       'BEANS, DRY EDIBLE, OTHER - YIELD, MEASURED IN LB / NET PLANTED ACRE',\n",
       "       'BEANS, DRY EDIBLE, LIMA - YIELD, MEASURED IN LB / NET PLANTED ACRE',\n",
       "       'BEANS, DRY EDIBLE, SMALL, WHITE - YIELD, MEASURED IN LB / NET PLANTED ACRE',\n",
       "       'BEANS, DRY EDIBLE, CHICKPEAS - YIELD, MEASURED IN LB / NET PLANTED ACRE',\n",
       "       'COTTON, UPLAND, IRRIGATED - YIELD, MEASURED IN LB / NET PLANTED ACRE',\n",
       "       'COTTON, UPLAND, IRRIGATED - YIELD, MEASURED IN LB / ACRE',\n",
       "       'BEANS, DRY EDIBLE, LIMA, IRRIGATED - YIELD, MEASURED IN LB / NET PLANTED ACRE',\n",
       "       'COTTON, PIMA, IRRIGATED - YIELD, MEASURED IN LB / NET PLANTED ACRE',\n",
       "       'COTTON, PIMA, IRRIGATED - YIELD, MEASURED IN LB / ACRE',\n",
       "       'BEANS, DRY EDIBLE - YIELD, MEASURED IN LB / NET PLANTED ACRE',\n",
       "       'BEANS, DRY EDIBLE, IRRIGATED - YIELD, MEASURED IN LB / NET PLANTED ACRE',\n",
       "       'BEANS, DRY EDIBLE, RED, KIDNEY, IRRIGATED - YIELD, MEASURED IN LB / ACRE',\n",
       "       'BEANS, DRY EDIBLE, RED, KIDNEY - YIELD, MEASURED IN LB / ACRE',\n",
       "       'BEANS, DRY EDIBLE, OTHER, IRRIGATED - YIELD, MEASURED IN LB / ACRE',\n",
       "       'BEANS, DRY EDIBLE, IRRIGATED - YIELD, MEASURED IN LB / ACRE',\n",
       "       'BEANS, DRY EDIBLE - YIELD, MEASURED IN LB / ACRE',\n",
       "       'BEANS, DRY EDIBLE, OTHER - YIELD, MEASURED IN LB / ACRE',\n",
       "       'BEANS, DRY EDIBLE, LIMA - YIELD, MEASURED IN LB / ACRE',\n",
       "       'BEANS, DRY EDIBLE, LIMA, IRRIGATED - YIELD, MEASURED IN LB / ACRE',\n",
       "       'TOMATOES, IN THE OPEN, PROCESSING - YIELD, MEASURED IN TONS / ACRE',\n",
       "       'BEANS, DRY EDIBLE, CHICKPEAS, IRRIGATED - YIELD, MEASURED IN LB / ACRE',\n",
       "       'BEANS, DRY EDIBLE, CHICKPEAS - YIELD, MEASURED IN LB / ACRE',\n",
       "       'SUNFLOWER, OIL TYPE - YIELD, MEASURED IN LB / ACRE',\n",
       "       'SUNFLOWER, NON-OIL TYPE - YIELD, MEASURED IN LB / ACRE'], dtype=object)"
      ]
     },
     "execution_count": 15,
     "metadata": {},
     "output_type": "execute_result"
    }
   ],
   "source": [
    "master_df['Data Item'].unique()"
   ]
  },
  {
   "cell_type": "markdown",
   "metadata": {},
   "source": [
    "# Part III: EDA: "
   ]
  },
  {
   "cell_type": "markdown",
   "metadata": {},
   "source": [
    "## a) Overview: "
   ]
  },
  {
   "cell_type": "code",
   "execution_count": 14,
   "metadata": {
    "collapsed": false
   },
   "outputs": [
    {
     "data": {
      "text/plain": [
       "Index([u'Year', u'County', u'Commodity', u'Data Item', u'Value',\n",
       "       u'Crop Attributes', u'Unit', u'SPRING', u'PROCESSING', u'DRY EDIBLE',\n",
       "       u'DURUM', u'GRAIN', u'SMALL', u'UPLAND', u'LIMA', u'WHITE', u'KIDNEY',\n",
       "       u'IN THE OPEN', u'IRRIGATED', u'WINTER', u'FOLLOWING SUMMER FALLOW',\n",
       "       u'SILAGE', u'OIL TYPE', u'NON-IRRIGATED', u'RED', u'NON-OIL TYPE',\n",
       "       u'PIMA', u'CHICKPEAS', u'CONTINUOUS CROP'],\n",
       "      dtype='object')"
      ]
     },
     "execution_count": 14,
     "metadata": {},
     "output_type": "execute_result"
    }
   ],
   "source": [
    "#1: Column names:\n",
    "master_df.columns"
   ]
  },
  {
   "cell_type": "markdown",
   "metadata": {},
   "source": [
    "\n",
    "## b) Features Engineering:"
   ]
  },
  {
   "cell_type": "code",
   "execution_count": null,
   "metadata": {
    "collapsed": false
   },
   "outputs": [],
   "source": [
    "#1: Handpick column names that specifies the type of crop (commodity): \n",
    "sub_domain = []"
   ]
  },
  {
   "cell_type": "markdown",
   "metadata": {},
   "source": [
    "## c) Graphs: "
   ]
  },
  {
   "cell_type": "code",
   "execution_count": null,
   "metadata": {
    "collapsed": true
   },
   "outputs": [],
   "source": []
  },
  {
   "cell_type": "markdown",
   "metadata": {},
   "source": [
    "## d) Multicollinearity:"
   ]
  },
  {
   "cell_type": "code",
   "execution_count": null,
   "metadata": {
    "collapsed": true
   },
   "outputs": [],
   "source": []
  },
  {
   "cell_type": "markdown",
   "metadata": {},
   "source": [
    "# Part IV: Features Selection: "
   ]
  },
  {
   "cell_type": "code",
   "execution_count": null,
   "metadata": {
    "collapsed": true
   },
   "outputs": [],
   "source": []
  },
  {
   "cell_type": "markdown",
   "metadata": {},
   "source": [
    "# Part V: Models:"
   ]
  },
  {
   "cell_type": "code",
   "execution_count": null,
   "metadata": {
    "collapsed": true
   },
   "outputs": [],
   "source": []
  },
  {
   "cell_type": "markdown",
   "metadata": {},
   "source": [
    "# Part VI: Assessment: "
   ]
  },
  {
   "cell_type": "code",
   "execution_count": null,
   "metadata": {
    "collapsed": true
   },
   "outputs": [],
   "source": []
  },
  {
   "cell_type": "markdown",
   "metadata": {},
   "source": [
    "# Part VII: Conclusions:"
   ]
  },
  {
   "cell_type": "code",
   "execution_count": null,
   "metadata": {
    "collapsed": true
   },
   "outputs": [],
   "source": []
  }
 ],
 "metadata": {
  "kernelspec": {
   "display_name": "Python 2",
   "language": "python",
   "name": "python2"
  },
  "language_info": {
   "codemirror_mode": {
    "name": "ipython",
    "version": 2
   },
   "file_extension": ".py",
   "mimetype": "text/x-python",
   "name": "python",
   "nbconvert_exporter": "python",
   "pygments_lexer": "ipython2",
   "version": "2.7.11"
  }
 },
 "nbformat": 4,
 "nbformat_minor": 0
}
