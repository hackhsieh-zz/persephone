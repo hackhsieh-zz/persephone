{
 "cells": [
  {
   "cell_type": "markdown",
   "metadata": {},
   "source": [
    "# Part 0: Libraries:"
   ]
  },
  {
   "cell_type": "code",
   "execution_count": 1,
   "metadata": {
    "collapsed": true
   },
   "outputs": [],
   "source": [
    "import requests \n",
    "import json\n",
    "import csv \n",
    "import urllib2 \n",
    "import pandas as pd "
   ]
  },
  {
   "cell_type": "markdown",
   "metadata": {},
   "source": [
    "# Part 1: Functions:"
   ]
  },
  {
   "cell_type": "code",
   "execution_count": 2,
   "metadata": {
    "collapsed": true
   },
   "outputs": [],
   "source": [
    "#Function 1: \n",
    "def generate_counties_df(state_name):\n",
    "    \"\"\"\n",
    "    INPUT: state_name (str, name of the state)\n",
    "    OUTPUT: counties_df (df that has columns of county name, state name, and respective FIPS ID)\n",
    "    OVERVIEW: generating counties and their corresbonding location ids (FIPS) in pd form\n",
    "    \"\"\"\n",
    "    column_names = ['Name', 'ID']\n",
    "    counties_df = pd.read_csv(\"Data/Weather/Locations/{}_counties.txt\".format(state_name),names=column_names)\n",
    "    \n",
    "    counties_df[\"State\"] = [ID.split(\"(\")[0] for ID in counties_df[\"ID\"]]\n",
    "    #remove \")\" from end of the string:\n",
    "    counties_df[\"ID\"] = counties_df[\"ID\"].apply(lambda x: x.replace(\")\", \"\")) \n",
    "    #FIPS ID is the ID of the NOAA weather station associated with respective counties: \n",
    "    counties_df[\"FIPS ID\"] = [ID.split(\"FIPS:\")[1] for ID in counties_df[\"ID\"]]\n",
    "    #capitalized county name: \n",
    "    counties_df[\"County\"] = [name.split(\" County\")[0].upper() for name in counties_df[\"Name\"]]\n",
    "    #dropping unnecessary columns:\n",
    "    counties_df.drop(column_names, axis=1, inplace=True)\n",
    "    return counties_df"
   ]
  },
  {
   "cell_type": "code",
   "execution_count": 3,
   "metadata": {
    "collapsed": true
   },
   "outputs": [],
   "source": [
    "#function 2:\n",
    "def GetDataFromUrl(url, filename, data_category, token):\n",
    "    \"\"\"\n",
    "    INPUT: url (str), filename (str), data_category (str), token (str)\n",
    "    OUTPUT: N/A (no return but generates json file)\n",
    "    OVERVIEW: grab file with url and write to json file (for weather data)\n",
    "    \"\"\"\n",
    "    headers = {\"token\": token}\n",
    "    r = requests.get(url, headers=headers)\n",
    "    print r\n",
    "    with open('Data/{}/{}.json'.format(data_category, filename), 'w') as f:\n",
    "        json.dump(r.json(), f)"
   ]
  },
  {
   "cell_type": "code",
   "execution_count": 4,
   "metadata": {
    "collapsed": true
   },
   "outputs": [],
   "source": [
    "#function 3: \n",
    "def json_to_df(filename, data_category):\n",
    "    \"\"\"\n",
    "    INPUT: filename (str), data_category (str)\n",
    "    OUTPUT: df (dataframe)\n",
    "    OVERVIEW: read json file into pd data frame (weather)\n",
    "    \"\"\"\n",
    "    with open('Data/{}/{}'.format(data_category, filename)) as f:\n",
    "        data = json.load(f)\n",
    "    df = pd.DataFrame.from_dict(data[\"results\"])\n",
    "    return df "
   ]
  },
  {
   "cell_type": "code",
   "execution_count": 5,
   "metadata": {
    "collapsed": false
   },
   "outputs": [],
   "source": [
    "#function 4: generate weather data in csv form year by year: \n",
    "def generate_yield_data(county_id, county_name, start_year, end_year):\n",
    "    locationid = master_locationid.format(county_id)\n",
    "    filename = master_filename.format(start_year, end_year, county_name)\n",
    "    startdate, enddate = master_startdate.format(start_year), master_enddate.format(end_year)\n",
    "    yearly_url = master_url.format(datasetid=datasetid, locationid=locationid, startdate=startdate, enddate=enddate)\n",
    "    try:\n",
    "        print \"STARTS\"\n",
    "        print yearly_url\n",
    "        GetDataFromUrl(yearly_url, filename, data_category, weather_token)\n",
    "    except: \n",
    "        print \"THIS DOESN'T WORK!!!!!\"\n",
    "        return \n",
    "    weather_df = json_to_df(\"{}.json\".format(filename), data_category)\n",
    "    weather_df.to_csv(\"Data/{}/{}.csv\".format(data_category, filename))"
   ]
  },
  {
   "cell_type": "code",
   "execution_count": 6,
   "metadata": {
    "collapsed": false
   },
   "outputs": [],
   "source": [
    "ca_df = generate_counties_df(\"CALIFORNIA\")"
   ]
  },
  {
   "cell_type": "markdown",
   "metadata": {},
   "source": [
    "# Part 2: Declaring Variables:"
   ]
  },
  {
   "cell_type": "markdown",
   "metadata": {},
   "source": [
    "## 1. Declaring States:"
   ]
  },
  {
   "cell_type": "code",
   "execution_count": 7,
   "metadata": {
    "collapsed": true
   },
   "outputs": [],
   "source": [
    "#Targeting 10 top agriculture states (based on economic output)\n",
    "#Source: http://www.ers.usda.gov/faqs.aspx (top 10 agriculture states)\n",
    "targest_states = [\"California\", \"Iowa\", \"Texas\", \"Nebraska\", \"Illinois\",\\\n",
    "                  \"Minnesota\", \"Kansas\", \"Indiana\", \"North Carolina\", \"Wisconsin\"]\n",
    "targest_states = [state.upper() for state in targest_states]"
   ]
  },
  {
   "cell_type": "markdown",
   "metadata": {},
   "source": [
    "## 2. Datatype Key:"
   ]
  },
  {
   "cell_type": "code",
   "execution_count": 8,
   "metadata": {
    "collapsed": true
   },
   "outputs": [],
   "source": [
    "datatype_key = [\"TPCP\",\"TSNW\",\"EMXT\",\"EMNT\",\"MNTM\"]"
   ]
  },
  {
   "cell_type": "markdown",
   "metadata": {},
   "source": [
    "## 3: Declaring master vriables for grabbing data from API:"
   ]
  },
  {
   "cell_type": "code",
   "execution_count": 17,
   "metadata": {
    "collapsed": false
   },
   "outputs": [],
   "source": [
    "#Master variables: \n",
    "master_filename, data_category = \"weather_{}-{}_{}\", \"Weather\"\n",
    "start_year, end_year = 1960, 1960\n",
    "county_id = \"06\"\n",
    "weather_token = \"lPtLBRYazwyqSgrWteXkaHStbdlWzqvV\"\n",
    "\n",
    "#i: Variable: DataSet:\n",
    "#description: \"Annual Summaries\"\n",
    "datasetid = \"ANNUAL\"\n",
    "\n",
    "#ii: Variable: Locations:\n",
    "master_locationid = \"FIPS:{}\"\n",
    "\n",
    "#iii: Time frame: \n",
    "master_startdate, master_enddate = \"{}-01-01\", \"{}-12-31\"\n",
    "\n",
    "#iv: Masater url:\n",
    "master_url = \\\n",
    "\"http://www.ncdc.noaa.gov/cdo-web/api/v2/\"+ \\\n",
    "\"data?datasetid={datasetid}&\"+ \\\n",
    "\"datatypeid=TPCP&TSNW&EMXT&EMNT&MNTM&\"+\\\n",
    "\"locationid={locationid}&\"+\\\n",
    "\"startdate={startdate}&enddate={enddate}&\"+\\\n",
    "\"units=metric&limit=1000\""
   ]
  },
  {
   "cell_type": "markdown",
   "metadata": {},
   "source": [
    "# 2. Weather Data:"
   ]
  },
  {
   "cell_type": "code",
   "execution_count": 18,
   "metadata": {
    "collapsed": false,
    "scrolled": true
   },
   "outputs": [
    {
     "name": "stdout",
     "output_type": "stream",
     "text": [
      "STARTS\n",
      "http://www.ncdc.noaa.gov/cdo-web/api/v2/data?datasetid=ANNUAL&datatypeid=TPCP&TSNW&EMXT&EMNT&MNTM&locationid=FIPS:06&startdate=1960-01-01&enddate=1960-12-31&units=metric&limit=1000\n",
      "<Response [200]>\n"
     ]
    }
   ],
   "source": [
    "generate_yield_data(\"06\", \"CALIFORNIA\", start_year, end_year)"
   ]
  },
  {
   "cell_type": "markdown",
   "metadata": {},
   "source": [
    "# 3. Archive Code: "
   ]
  },
  {
   "cell_type": "code",
   "execution_count": 11,
   "metadata": {
    "collapsed": true
   },
   "outputs": [],
   "source": [
    "#I: Locations:\n",
    "#description: \"Country\", \"County\", \"State\"\n",
    "#locationid1, locationid2, locationid3 = \"CNTRY:UNITED STATES\", \"CNTY\", \"ST\""
   ]
  },
  {
   "cell_type": "code",
   "execution_count": 19,
   "metadata": {
    "collapsed": false,
    "scrolled": true
   },
   "outputs": [],
   "source": [
    "df = pd.read_csv(\"/Users/Hsieh/Desktop/persephone/Data/Weather/weather_1960-1960_CALIFORNIA.csv\")"
   ]
  },
  {
   "cell_type": "code",
   "execution_count": 25,
   "metadata": {
    "collapsed": false
   },
   "outputs": [
    {
     "data": {
      "text/plain": [
       "0     06109\n",
       "1     06009\n",
       "2     06053\n",
       "3     06071\n",
       "4     06043\n",
       "5     06069\n",
       "6     06081\n",
       "7     06013\n",
       "8     06025\n",
       "9     06033\n",
       "10    06007\n",
       "11    06005\n",
       "12    06105\n",
       "13    06019\n",
       "14    06015\n",
       "15    06061\n",
       "16    06065\n",
       "17    06063\n",
       "18    06075\n",
       "19    06107\n",
       "20    06027\n",
       "21    06085\n",
       "22    06011\n",
       "23    06057\n",
       "24    06029\n",
       "25    06051\n",
       "26    06087\n",
       "27    06113\n",
       "28    06023\n",
       "29    06073\n",
       "30    06083\n",
       "31    06001\n",
       "32    06079\n",
       "33    06103\n",
       "34    06021\n",
       "35    06041\n",
       "36    06089\n",
       "37    06097\n",
       "38    06099\n",
       "39    06017\n",
       "40    06067\n",
       "41    06049\n",
       "42    06095\n",
       "43    06091\n",
       "44    06101\n",
       "45    06111\n",
       "46    06045\n",
       "47    06047\n",
       "48    06115\n",
       "49    06059\n",
       "Name: FIPS ID, dtype: object"
      ]
     },
     "execution_count": 25,
     "metadata": {},
     "output_type": "execute_result"
    }
   ],
   "source": [
    "ca_df[\"FIPS ID\"]"
   ]
  },
  {
   "cell_type": "code",
   "execution_count": null,
   "metadata": {
    "collapsed": true
   },
   "outputs": [],
   "source": []
  }
 ],
 "metadata": {
  "kernelspec": {
   "display_name": "Python 2",
   "language": "python",
   "name": "python2"
  },
  "language_info": {
   "codemirror_mode": {
    "name": "ipython",
    "version": 2
   },
   "file_extension": ".py",
   "mimetype": "text/x-python",
   "name": "python",
   "nbconvert_exporter": "python",
   "pygments_lexer": "ipython2",
   "version": "2.7.11"
  }
 },
 "nbformat": 4,
 "nbformat_minor": 0
}
